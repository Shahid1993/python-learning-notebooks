{
 "cells": [
  {
   "cell_type": "markdown",
   "metadata": {},
   "source": [
    "Generator functions allow you to declare a function that behaves like an iterator. They allow programmers to make an iterator in a fast, easy, and clean way. An iterator is an object that can be iterated (looped) upon. It is used to abstract a container of data to make it behave like an iterable object. \n",
    "\n",
    "A generator looks a lot like a function, but uses the keyword `yield` instead of `return`."
   ]
  },
  {
   "cell_type": "code",
   "execution_count": 1,
   "metadata": {},
   "outputs": [],
   "source": [
    "def generate_numbers():\n",
    "    n = 0\n",
    "    while n < 3:\n",
    "        yield n\n",
    "        n +=1"
   ]
  },
  {
   "cell_type": "code",
   "execution_count": 2,
   "metadata": {},
   "outputs": [],
   "source": [
    "numbers = generate_numbers()"
   ]
  },
  {
   "cell_type": "code",
   "execution_count": 3,
   "metadata": {},
   "outputs": [
    {
     "data": {
      "text/plain": [
       "generator"
      ]
     },
     "execution_count": 3,
     "metadata": {},
     "output_type": "execute_result"
    }
   ],
   "source": [
    "type(numbers)"
   ]
  },
  {
   "cell_type": "markdown",
   "metadata": {},
   "source": [
    "The important thing to note is how state is encapsulated within the body of the generator function. You can also step through one by one, using the built-in `next()` function:"
   ]
  },
  {
   "cell_type": "code",
   "execution_count": 4,
   "metadata": {},
   "outputs": [
    {
     "data": {
      "text/plain": [
       "0"
      ]
     },
     "execution_count": 4,
     "metadata": {},
     "output_type": "execute_result"
    }
   ],
   "source": [
    "next(numbers)"
   ]
  },
  {
   "cell_type": "code",
   "execution_count": 5,
   "metadata": {},
   "outputs": [
    {
     "data": {
      "text/plain": [
       "1"
      ]
     },
     "execution_count": 5,
     "metadata": {},
     "output_type": "execute_result"
    }
   ],
   "source": [
    "next(numbers)"
   ]
  },
  {
   "cell_type": "code",
   "execution_count": 6,
   "metadata": {},
   "outputs": [
    {
     "data": {
      "text/plain": [
       "2"
      ]
     },
     "execution_count": 6,
     "metadata": {},
     "output_type": "execute_result"
    }
   ],
   "source": [
    "next(numbers)"
   ]
  },
  {
   "cell_type": "markdown",
   "metadata": {},
   "source": [
    "What happens if you call `next()` past the end?\n",
    "---\n",
    "`StopIteration` is a built-in exception type, which is automatically raised once the generator stops yielding. It's the signal to the for loop to stop."
   ]
  },
  {
   "cell_type": "code",
   "execution_count": 7,
   "metadata": {},
   "outputs": [
    {
     "ename": "StopIteration",
     "evalue": "",
     "output_type": "error",
     "traceback": [
      "\u001b[0;31m---------------------------------------------------------------------------\u001b[0m",
      "\u001b[0;31mStopIteration\u001b[0m                             Traceback (most recent call last)",
      "\u001b[0;32m<ipython-input-7-270f72471946>\u001b[0m in \u001b[0;36m<module>\u001b[0;34m\u001b[0m\n\u001b[0;32m----> 1\u001b[0;31m \u001b[0mnext\u001b[0m\u001b[0;34m(\u001b[0m\u001b[0mnumbers\u001b[0m\u001b[0;34m)\u001b[0m\u001b[0;34m\u001b[0m\u001b[0;34m\u001b[0m\u001b[0m\n\u001b[0m",
      "\u001b[0;31mStopIteration\u001b[0m: "
     ]
    }
   ],
   "source": [
    "next(numbers)"
   ]
  },
  {
   "cell_type": "markdown",
   "metadata": {},
   "source": [
    "Yield Statement\n",
    "---\n",
    "**When the Python yield statement is hit, the program suspends function execution and returns the yielded value to the caller. (In contrast, `return` stops function execution completely.) When a function is suspended, the state of that function is saved.**\n",
    "\n",
    "Compare the normal approach vs using generators\n",
    "===\n",
    "\n",
    "The Problem Statement\n",
    "---\n",
    "Let us say that we have to iterate through a large list of numbers (eg 100000000) and store the square of all the numbers which are even in a seperate list.\n",
    "\n",
    "The Normal Approach\n",
    "---"
   ]
  },
  {
   "cell_type": "code",
   "execution_count": 8,
   "metadata": {},
   "outputs": [
    {
     "name": "stdout",
     "output_type": "stream",
     "text": [
      "It took 9.443405389785767 Secs and 1932.296875 Mb to execute this method\n"
     ]
    }
   ],
   "source": [
    "import memory_profiler\n",
    "import time\n",
    "\n",
    "def check_even(numbers):\n",
    "    even = []\n",
    "    for num in numbers:\n",
    "        if num % 2 == 0:\n",
    "            even.append(num * num)\n",
    "            \n",
    "    return even\n",
    "\n",
    "m1 = memory_profiler.memory_usage()\n",
    "t1 = time.time()\n",
    "cubes = check_even(range(100000000))\n",
    "t2 = time.time()\n",
    "m2 = memory_profiler.memory_usage()\n",
    "time_diff = t2 - t1\n",
    "mem_diff = m2[0] - m1[0]\n",
    "\n",
    "print(f\"It took {time_diff} Secs and {mem_diff} Mb to execute this method\")"
   ]
  },
  {
   "cell_type": "markdown",
   "metadata": {},
   "source": [
    "Using Generators\n",
    "---"
   ]
  },
  {
   "cell_type": "code",
   "execution_count": 9,
   "metadata": {},
   "outputs": [
    {
     "name": "stdout",
     "output_type": "stream",
     "text": [
      "It took 0.0007860660552978516 secs and 0.0 Mb to execute this method\n"
     ]
    }
   ],
   "source": [
    "import memory_profiler\n",
    "import time\n",
    "\n",
    "def check_even(numbers):\n",
    "    for num in numbers:\n",
    "        if num % 2 == 0:\n",
    "            yield num * num\n",
    "            \n",
    "\n",
    "m1 = memory_profiler.memory_usage()\n",
    "t1 = time.time()\n",
    "cubes = check_even(range(100000000))\n",
    "t2 = time.time()\n",
    "m2 = memory_profiler.memory_usage()\n",
    "time_diff = t2-t1\n",
    "mem_diff = m2[0] - m1[0]\n",
    "\n",
    "print(f\"It took {time_diff} secs and {mem_diff} Mb to execute this method\")\n",
    "        "
   ]
  },
  {
   "cell_type": "markdown",
   "metadata": {},
   "source": [
    "![](https://miro.medium.com/max/959/1*8xC0khI4StoWcJSSuLKERg.png)\n",
    "\n",
    "As we can see both the time taken to execute and memory usage has been reduced drastically. **Generators only work on demand** which is famously known as working by **lazy evaluation**. That means that **they can save cpu, memory and other computational resources**.\n",
    "\n",
    "Conclusions\n",
    "===\n",
    "Python generators can be used to reduce memory usage and make the code execute faster. The advantage lies in the fact that generators don’t store all results in memory, rather they generate them on the fly, hence the memory is only used when we ask for the result. Also generators abstract away much of the boilerplate code needed when writing iterators, hence also helps in reducing the size of code."
   ]
  },
  {
   "cell_type": "code",
   "execution_count": null,
   "metadata": {},
   "outputs": [],
   "source": []
  },
  {
   "cell_type": "code",
   "execution_count": null,
   "metadata": {},
   "outputs": [],
   "source": []
  }
 ],
 "metadata": {
  "kernelspec": {
   "display_name": "Python 3",
   "language": "python",
   "name": "python3"
  },
  "language_info": {
   "codemirror_mode": {
    "name": "ipython",
    "version": 3
   },
   "file_extension": ".py",
   "mimetype": "text/x-python",
   "name": "python",
   "nbconvert_exporter": "python",
   "pygments_lexer": "ipython3",
   "version": "3.7.4"
  }
 },
 "nbformat": 4,
 "nbformat_minor": 4
}
