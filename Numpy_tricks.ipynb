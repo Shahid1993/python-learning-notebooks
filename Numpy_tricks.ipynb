{
 "cells": [
  {
   "cell_type": "markdown",
   "metadata": {},
   "source": [
    "# [4 NumPy Tricks Every Python Beginner should Learn](https://towardsdatascience.com/4-numpy-tricks-every-python-beginner-should-learn-bdb41febc2f2)"
   ]
  },
  {
   "cell_type": "markdown",
   "metadata": {},
   "source": [
    "## 1. Arg functions — positions\n",
    "\n",
    "For an array `arr`, \n",
    "\n",
    "- `np.argmax(arr)` : return the indices of maximum values\n",
    "- `np.argmin(arr)` : return the indices of manimum values\n",
    "- `np.argwhere(condition(arr))` : return indices of values that satisfy a user-defined condition.\n",
    "\n",
    "- `np.argsort()` : return the indices that would sort an array\n",
    "We can use `np.argsort` to **sort values of arrays according to another array.**\n",
    "The sorted name array can also be **transformed back to its original order** using `np.argsort(np.argsort(score))`.\n",
    "Its performance is faster than using built-in Python function `sorted(zip())`, and is arguably more readable."
   ]
  },
  {
   "cell_type": "code",
   "execution_count": 27,
   "metadata": {},
   "outputs": [
    {
     "name": "stdout",
     "output_type": "stream",
     "text": [
      "['Danny' 'Fanny' 'Charlie' 'Ben' 'Ada' 'George' 'Eden']\n",
      "['Ada' 'Ben' 'Charlie' 'Danny' 'Eden' 'Fanny' 'George']\n",
      "2.15 µs ± 100 ns per loop (mean ± std. dev. of 7 runs, 100000 loops each)\n",
      "3.61 µs ± 59.4 ns per loop (mean ± std. dev. of 7 runs, 100000 loops each)\n"
     ]
    }
   ],
   "source": [
    "score = np.array([70, 60, 50, 10, 90, 40, 80])\n",
    "name = np.array(['Ada', 'Ben', 'Charlie', 'Danny', 'Eden', 'Fanny', 'George'])\n",
    "sorted_name = name[np.argsort(score)] # an array of names in ascending order of their scores\n",
    "print(sorted_name)   # ['Danny' 'Fanny' 'Charlie' 'Ben' 'Ada' 'George' 'Eden']\n",
    "\n",
    "original_name = sorted_name[np.argsort(np.argsort(score))]\n",
    "print(original_name) # ['Ada' 'Ben' 'Charlie' 'Danny' 'Eden' 'Fanny' 'George']\n",
    "\n",
    "\n",
    "%timeit name[np.argsort(score)] \n",
    "# 1.83 µs ± 182 ns per loop (mean ± std. dev. of 7 runs, 100000 loops each)\n",
    "%timeit sorted(zip(score, name))\n",
    "# 3.2 µs ± 76.7 ns per loop (mean ± std. dev. of 7 runs, 100000 loops each)"
   ]
  },
  {
   "cell_type": "markdown",
   "metadata": {},
   "source": [
    "## 2. Broadcasting — shapes\n",
    "Broadcasting **vectorizes array operations without making needless copies of data**. This leads to efficient algorithm implementations and higher code readability.\n",
    "\n",
    "### But how do we know if two arrays are compatible with broadcasting?\n",
    "Each dimension of both arrays have to be either **equal**, or **one of them is 1**. They do not need to have the same number of dimensions.\n",
    "\n",
    "```\n",
    "Argument 1  (4D array): 7 × 5 × 3 × 1\n",
    "Argument 2  (3D array):     1 × 3 × 9\n",
    "Output      (4D array): 7 × 5 × 3 × 9\n",
    "```"
   ]
  },
  {
   "cell_type": "markdown",
   "metadata": {},
   "source": [
    "# 3. Ellipsis and NewAxis — dimensions\n",
    "- When dealing with arrays with higher dimensions, we use `:` for selecting the whole indices along each axis.\n",
    "- We can also use `…` can select **all indices across multiple axes**. The exact number of axes expanded is **inferred**.\n",
    "\n",
    "Using `np.newaxis` **inserts a new axis at a user-defined axis position**. This operation expands the shape of an array by one unit of dimension. While this can also be done by `np.expand_dims()`, using `np.newaxis` is much more readable and arguably more elegant."
   ]
  },
  {
   "cell_type": "code",
   "execution_count": 28,
   "metadata": {},
   "outputs": [
    {
     "name": "stdout",
     "output_type": "stream",
     "text": [
      "[[[ True  True]\n",
      "  [ True  True]\n",
      "  [ True  True]\n",
      "  [ True  True]\n",
      "  [ True  True]]\n",
      "\n",
      " [[ True  True]\n",
      "  [ True  True]\n",
      "  [ True  True]\n",
      "  [ True  True]\n",
      "  [ True  True]]]\n",
      "(2, 5, 2, 10, 5)\n",
      "(2, 5, 1, 2, 10, 5)\n"
     ]
    }
   ],
   "source": [
    "arr = np.array(range(1000)).reshape(2,5,2,10,-1)\n",
    "print(arr[:,:,:,3,2] == arr[...,3,2])\n",
    "# [[[ True,  True],\n",
    "#   [ True,  True],\n",
    "#   [ True,  True],\n",
    "#   [ True,  True],\n",
    "#   [ True,  True]],\n",
    "#  [[ True,  True],\n",
    "#   [ True,  True],\n",
    "#   [ True,  True],\n",
    "#   [ True,  True],\n",
    "#   [ True,  True]]])\n",
    "\n",
    "print(arr.shape)                       # (2, 5, 2, 10, 5)\n",
    "print(arr[...,np.newaxis,:,:,:].shape) # (2, 5, 1, 2, 10, 5)"
   ]
  },
  {
   "cell_type": "markdown",
   "metadata": {},
   "source": [
    "## 4. Masked Array — selection\n",
    "Datasets are imperfect. They always contain arrays with missing or invalid entries, and we often want to ignore those entries. For example, measurements from a weather station might contain missing values because of sensor failure.\n",
    "\n",
    "Numpy has a submodule `numpy.ma` that **supports data arrays with masks**. A masked array contains an ordinary numpy array and **a mask that indicates the position of invalid entries**.\n",
    "\n",
    "```\n",
    "np.ma.MaskedArray(data=arr, mask=invalid_mask)\n",
    "```\n",
    "\n",
    "Invalid entries in an array are sometimes marked using negative values or strings. If we know the masked value, say `-999`, we can also create a masked array using `np.ma.masked_values(arr, value=-999)`. Any numpy operation taking a masked array as an argument will automatically ignore those invalid entries as shown below."
   ]
  },
  {
   "cell_type": "code",
   "execution_count": 30,
   "metadata": {},
   "outputs": [
    {
     "name": "stdout",
     "output_type": "stream",
     "text": [
      "[2 3 -- 5 -- 7 -- -- -- 11 -- 13 -- -- -- 17 -- 19 -- -- -- 23 -- -- -- --\n",
      " -- 29 -- 31 -- -- -- -- -- 37 -- -- -- 41 -- 43 -- -- -- 47 -- -- -- --\n",
      " -- 53 -- -- -- -- -- 59 -- 61 -- -- -- -- -- 67 -- -- -- 71 -- 73 -- --\n",
      " -- -- -- 79 -- -- -- 83 -- -- -- -- -- 89 -- -- -- -- -- -- -- 97 -- --]\n",
      "55\n",
      "45\n"
     ]
    }
   ],
   "source": [
    "import math\n",
    "def is_prime(n):\n",
    "    assert n > 1, 'Input must be larger than 1'\n",
    "    if n % 2 == 0 and n > 2:\n",
    "        return False\n",
    "    return all(n % i for i in range(3, int(math.sqrt(n)) + 1, 2))\n",
    "\n",
    "arr = np.array(range(2,100))\n",
    "non_prime_mask = [not is_prime(n) for n in arr]\n",
    "prime_arr = np.ma.MaskedArray(data=arr, mask=non_prime_mask)\n",
    "print(prime_arr)\n",
    "# [2 3 -- 5 -- 7 -- -- -- 11 -- 13 -- -- -- 17 -- 19 -- -- -- 23 -- -- -- --\n",
    "#  -- 29 -- 31 -- -- -- -- -- 37 -- -- -- 41 -- 43 -- -- -- 47 -- -- -- --\n",
    "#  -- 53 -- -- -- -- -- 59 -- 61 -- -- -- -- -- 67 -- -- -- 71 -- 73 -- --\n",
    "#  -- -- -- 79 -- -- -- 83 -- -- -- -- -- 89 -- -- -- -- -- -- -- 97 -- --]\n",
    "\n",
    "arr = np.array(range(11))\n",
    "print(arr.sum())        # 55\n",
    "\n",
    "arr[-1] = -999 # indicates missing value\n",
    "masked_arr = np.ma.masked_values(arr, -999)\n",
    "print(masked_arr.sum()) # 45"
   ]
  }
 ],
 "metadata": {
  "kernelspec": {
   "display_name": "Python 3",
   "language": "python",
   "name": "python3"
  },
  "language_info": {
   "codemirror_mode": {
    "name": "ipython",
    "version": 3
   },
   "file_extension": ".py",
   "mimetype": "text/x-python",
   "name": "python",
   "nbconvert_exporter": "python",
   "pygments_lexer": "ipython3",
   "version": "3.7.4"
  }
 },
 "nbformat": 4,
 "nbformat_minor": 4
}
