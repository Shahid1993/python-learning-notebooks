{
 "cells": [
  {
   "cell_type": "markdown",
   "metadata": {},
   "source": [
    "# [5 Python Features I wish I had Known Earlier](https://towardsdatascience.com/5-python-features-i-wish-i-had-known-earlier-bc16e4a13bf4)\n",
    "\n",
    "Python is arguably the rising programming language of the decade and is proven to be a very powerful language. I have built so many applications using Python from [interactive maps](https://towardsdatascience.com/visualizing-bike-mobility-in-london-using-interactive-maps-for-absolute-beginners-3b9f55ccb59) to [blockchains](https://towardsdatascience.com/building-a-minimal-blockchain-in-python-4f2e9934101d)."
   ]
  },
  {
   "cell_type": "markdown",
   "metadata": {},
   "source": [
    "## 1. List comprehensions — compact codes\n",
    "\n",
    "- `Lambda` is a method to compose a function in one line **for one-time use**. Performance suffers if the functions are called multiple times.\n",
    "- `map` applies a function to all elements in a list\n",
    "- `filter` gets a subset of elements in a set that meets a user-defined condition"
   ]
  },
  {
   "cell_type": "code",
   "execution_count": 20,
   "metadata": {},
   "outputs": [
    {
     "data": {
      "text/plain": [
       "[0, 1, 2, 3, 4, 5, 6, 7, 8, 9]"
      ]
     },
     "execution_count": 20,
     "metadata": {},
     "output_type": "execute_result"
    }
   ],
   "source": [
    "square_func = lambda z: z ** 2\n",
    "is_odd = lambda z: z%2 == 1\n",
    "multiply = lambda x,y: x * y\n",
    "\n",
    "aList = list(range(10))\n",
    "aList"
   ]
  },
  {
   "cell_type": "markdown",
   "metadata": {},
   "source": [
    "**List comprehension** is a concise and flexible method to create lists from other lists with flexible expressions and conditions.It can also be nested to handle nested lists, and is far more flexible than using map and filter.\n",
    "\n",
    "```\n",
    "# Syntax of list comprehension\n",
    "[ expression(x) for x in aList if optional_condition(x) ]\n",
    "```"
   ]
  },
  {
   "cell_type": "code",
   "execution_count": 21,
   "metadata": {},
   "outputs": [
    {
     "name": "stdout",
     "output_type": "stream",
     "text": [
      "[0, 1, 4, 9, 16, 25, 36, 49, 64, 81]\n",
      "[0, 1, 4, 9, 16, 25, 36, 49, 64, 81]\n",
      "[1, 3, 5, 7, 9]\n",
      "[1, 3, 5, 7, 9]\n"
     ]
    }
   ],
   "source": [
    "print(list(map(square_func, aList)))\n",
    "print([x ** 2 for x in aList])\n",
    "\n",
    "print(list(filter(is_odd, aList)))\n",
    "print([x for x in aList if x % 2 == 1])"
   ]
  },
  {
   "cell_type": "markdown",
   "metadata": {},
   "source": [
    "## 2. List manipulation — circular lists\n",
    "Python allows **negative indexing** where `aList[-1] == aList[len(aList)-1]`.\n",
    "\n",
    "We can also **slice lists** using the syntax `aList[start:end:step]`, where the starting element is included but the ending element is not. Therefore, calling `aList[2:5]` gives `[2, 3, 4]`. \n",
    "\n",
    "We can also **reverse a list** simply by calling `aList[::-1]`, and I find this technique very elegant.\n",
    "\n",
    "A list can be also **unpacked into separate elements, or a mix of elements and a sub-list using an asterisk**."
   ]
  },
  {
   "cell_type": "code",
   "execution_count": 22,
   "metadata": {},
   "outputs": [
    {
     "name": "stdout",
     "output_type": "stream",
     "text": [
      "9\n",
      "[2, 3, 4]\n",
      "[9, 8, 7, 6, 5, 4, 3, 2, 1, 0]\n",
      "a = 0, b = 1, c = 2, d = 3\n",
      "a = 0, b = 1, c = [2, 3, 4, 5, 6, 7, 8], d = 9\n"
     ]
    }
   ],
   "source": [
    "print(aList[-1])\n",
    "# 9\n",
    "\n",
    "print(aList[2:5])\n",
    "# [2, 3, 4]\n",
    "\n",
    "print(aList[::-1])\n",
    "# [9, 8, 7, 6, 5, 4, 3, 2, 1, 0]\n",
    "\n",
    "a, b, c, d = aList[0:4]\n",
    "print(f'a = {a}, b = {b}, c = {c}, d = {d}')\n",
    "# a = 0, b = 1, c = 2, d = 3\n",
    "\n",
    "a, b, *c, d = aList\n",
    "print(f'a = {a}, b = {b}, c = {c}, d = {d}')\n",
    "# a = 0, b = 1, c = [2, 3, 4, 5, 6, 7, 8], d = 9"
   ]
  },
  {
   "cell_type": "markdown",
   "metadata": {},
   "source": [
    "## 3. Zipping and enumerate — for-loops\n",
    "- `Zip` function **creates an iterator that aggregates elements from multiple lists**. \n",
    "- It allows **traversing lists in parallel** in a for-loop and **sorting in parallel**. \n",
    "- It can be unzipped using an asterisk."
   ]
  },
  {
   "cell_type": "code",
   "execution_count": 23,
   "metadata": {},
   "outputs": [
    {
     "name": "stdout",
     "output_type": "stream",
     "text": [
      "[(0, 'zero', 'cero'), (1, 'one', 'uno'), (2, 'two', 'dos')]\n",
      "0 is zero in English and cero in Spanish.\n",
      "1 is one in English and uno in Spanish.\n",
      "2 is two in English and dos in Spanish.\n"
     ]
    }
   ],
   "source": [
    "numList = [0, 1, 2]\n",
    "engList = ['zero', 'one', 'two']\n",
    "espList = ['cero', 'uno', 'dos']\n",
    "print(list(zip(numList, engList, espList)))\n",
    "# [(0, 'zero', 'cero'), (1, 'one', 'uno'), (2, 'two', 'dos')]\n",
    "\n",
    "for num, eng, esp in zip(numList, engList, espList):\n",
    "    print(f'{num} is {eng} in English and {esp} in Spanish.')\n",
    "# 0 is zero in English and cero in Spanish.\n",
    "# 1 is one in English and uno in Spanish.\n",
    "# 2 is two in English and dos in Spanish."
   ]
  },
  {
   "cell_type": "code",
   "execution_count": 24,
   "metadata": {},
   "outputs": [
    {
     "name": "stdout",
     "output_type": "stream",
     "text": [
      "('one', 'two', 'zero')\n",
      "('uno', 'dos', 'cero')\n",
      "(1, 2, 0)\n"
     ]
    }
   ],
   "source": [
    "Eng = list(zip(engList, espList, numList))\n",
    "Eng.sort() # sort by engList\n",
    "a, b, c = zip(*Eng)\n",
    "\n",
    "print(a)\n",
    "print(b)\n",
    "print(c)\n",
    "# ('one', 'two', 'zero')\n",
    "# ('uno', 'dos', 'cero')\n",
    "# (1, 2, 0)"
   ]
  },
  {
   "cell_type": "markdown",
   "metadata": {},
   "source": [
    "`Enumerate` might look a bit intimidating at first, but becomes very handy in many scenarios. It is an **automatic counter** that is often used in a for-loop, such that there is **no need to create and initialise a counter** variable anymore in a for-loop by `counter = 0` and `counter += 1`. Enumerate and zip are two of the most powerful tools when constructing a for-loop."
   ]
  },
  {
   "cell_type": "code",
   "execution_count": 25,
   "metadata": {},
   "outputs": [
    {
     "name": "stdout",
     "output_type": "stream",
     "text": [
      "1: A and a.\n",
      "2: B and b.\n",
      "3: C and c.\n",
      "4: D and d.\n",
      "5: E and e.\n",
      "6: F and f.\n"
     ]
    }
   ],
   "source": [
    "upperCase = ['A', 'B', 'C', 'D', 'E', 'F']\n",
    "lowerCase = ['a', 'b', 'c', 'd', 'e', 'f']\n",
    "for i, (upper, lower) in enumerate(zip(upperCase, lowerCase), 1):\n",
    "    print(f'{i}: {upper} and {lower}.')\n",
    "# 1: A and a.\n",
    "# 2: B and b.\n",
    "# 3: C and c.\n",
    "# 4: D and d.\n",
    "# 5: E and e.\n",
    "# 6: F and f."
   ]
  },
  {
   "cell_type": "markdown",
   "metadata": {},
   "source": [
    "## 4. Generator — memory efficiency\n",
    "**Generators** are utilized when we intend to calculate a large set of results but would like to **avoid allocating the memory needed for all results at the same time**. In other words, they **generate values on the fly and do not store previous values in memory**, and thus we **can only iterate over them once**.\n",
    "They are often used when **reading large files** or **generating an infinite sequence** using keyword `yield`. I often find it useful in most of my data science projects."
   ]
  },
  {
   "cell_type": "code",
   "execution_count": 26,
   "metadata": {},
   "outputs": [
    {
     "name": "stdout",
     "output_type": "stream",
     "text": [
      "3\n",
      "4\n",
      "5\n",
      "6\n"
     ]
    }
   ],
   "source": [
    "def gen(n):    # an infinite sequence generator that generates integers >= n\n",
    "    while True:\n",
    "        yield n\n",
    "        n += 1\n",
    "        \n",
    "G = gen(3)     # starts at 3\n",
    "print(next(G)) # 3\n",
    "print(next(G)) # 4\n",
    "print(next(G)) # 5\n",
    "print(next(G)) # 6"
   ]
  },
  {
   "cell_type": "markdown",
   "metadata": {},
   "source": [
    "## 5. Virtual environment — isolation\n",
    "\n",
    "Python applications often use many different packages from various developers with complex dependencies. Different applications are developed using a specific library setting, where results cannot be reproduced using other library versions. There does not exist a single installation that satisfies the requirements of all applications.\n",
    "\n",
    "```\n",
    "conda create -n venv pip python=3.7  # select python version\n",
    "source activate venv\n",
    "...\n",
    "source deactivate\n",
    "```\n",
    "\n",
    "Therefore, it is vital to create separate self-contained virtual environments `venv` for each application, which can be done using `pip` or `conda`."
   ]
  }
 ],
 "metadata": {
  "kernelspec": {
   "display_name": "Python 3",
   "language": "python",
   "name": "python3"
  },
  "language_info": {
   "codemirror_mode": {
    "name": "ipython",
    "version": 3
   },
   "file_extension": ".py",
   "mimetype": "text/x-python",
   "name": "python",
   "nbconvert_exporter": "python",
   "pygments_lexer": "ipython3",
   "version": "3.7.4"
  }
 },
 "nbformat": 4,
 "nbformat_minor": 4
}
